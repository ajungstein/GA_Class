{
 "cells": [
  {
   "cell_type": "markdown",
   "metadata": {
    "ExecuteTime": {
     "end_time": "2016-07-04T09:40:33.804063",
     "start_time": "2016-07-04T09:40:33.800340"
    },
    "slideshow": {
     "slide_type": "slide"
    }
   },
   "source": [
    "![jupyter-logo](images/jupyter.png)"
   ]
  },
  {
   "cell_type": "markdown",
   "metadata": {
    "slideshow": {
     "slide_type": "subslide"
    }
   },
   "source": [
    "### Learning Goals:\n",
    "\n",
    "- Identify jupyter notebook use cases\n",
    "- Run python code in jupyter notebooks\n",
    "- Understand the use of built-in tools\n",
    "- Know where to find more information"
   ]
  },
  {
   "cell_type": "markdown",
   "metadata": {
    "slideshow": {
     "slide_type": "subslide"
    }
   },
   "source": [
    "### Agenda (20 min):\n",
    "\n",
    "- Notebook functionality, elements & navigation\n",
    "- Command vs Edit modes\n",
    "- Magic commands\n",
    "- Notebook as terminal"
   ]
  },
  {
   "cell_type": "markdown",
   "metadata": {
    "slideshow": {
     "slide_type": "slide"
    }
   },
   "source": [
    "### How to run Python code?\n",
    "- command line\n",
    "- scripts: text editor / IDE\n",
    "    - vim/emacs; Sublime/Atom; Spyder; PyCharm\n",
    "- jupyter / IPython notebooks"
   ]
  },
  {
   "cell_type": "markdown",
   "metadata": {
    "slideshow": {
     "slide_type": "subslide"
    }
   },
   "source": [
    "## What is Jupyter?\n",
    "[Jupyter Notebook](http://jupyter.org) is a web app that renders in a browser, and allows you to create and share documents in 40 languages that contain:\n",
    "\n",
    "- live code, \n",
    "- equations, \n",
    "- visualizations, and \n",
    "- explanatory text"
   ]
  },
  {
   "cell_type": "markdown",
   "metadata": {
    "slideshow": {
     "slide_type": "subslide"
    }
   },
   "source": [
    "Typical **use cases** include: \n",
    "\n",
    "- data cleaning and transformation, \n",
    "- numerical simulation, \n",
    "- statistical modeling, \n",
    "- machine learning"
   ]
  },
  {
   "cell_type": "markdown",
   "metadata": {
    "slideshow": {
     "slide_type": "subslide"
    }
   },
   "source": [
    "## Launching a notebook\n",
    "Despite Jupyter, notebooks are still called `IPython notebook`. To launch the server and run a notebook from `terminal` (with optional '`flags`'):\n",
    "\n",
    "    jupyter notebook --browser=safari\n",
    "    \n",
    "See all options:\n",
    "\n",
    "    jupyter notebook --help"
   ]
  },
  {
   "cell_type": "markdown",
   "metadata": {
    "slideshow": {
     "slide_type": "subslide"
    }
   },
   "source": [
    "### Operating the notebook\n",
    "\n",
    "The browser lists all files in the **working directory**, and allows to navigate the file system.\n",
    "\n",
    "Click \"New\" in the upper right corner to get a new Jupyter notebook.\n",
    "\n",
    "After launch, your shell will occasionally print info (from the **Jupyter server**). \n",
    "\n",
    "Kill Jupyter: hit 2x \"`ctrl + C`\" in the shell."
   ]
  },
  {
   "cell_type": "markdown",
   "metadata": {
    "slideshow": {
     "slide_type": "subslide"
    }
   },
   "source": [
    "### Tool Bar & Shortcuts\n",
    "**Menu bar** & **tool bar** allow access to **Help**, and to manage **Kernel**, and notebook file & content:\n",
    "- **markdown cells**: formatted text\n",
    "- **code cells**: code you want to run\n",
    "\n",
    "**Insert a cell** via pulldown menu, \"`esc, b`\" or \"`esc, a`\" to insert below / above, or execute a cell and add one below using \"`alt + enter`.\""
   ]
  },
  {
   "cell_type": "markdown",
   "metadata": {
    "slideshow": {
     "slide_type": "subslide"
    }
   },
   "source": [
    "## Markdown Cells\n",
    "\n",
    "Contain text in **markdown**, a lightweight markup language -  see [syntax](http://daringfireball.net/projects/markdown/syntax). **HTML** also works, and **$\\LaTeX$**, a math markup language ([cheat sheet](http://users.dickinson.edu/~richesod/latex/latexcheatsheet.pdf)).\n",
    "- While typing, content appears as text; \"`shift + enter`\" renders format.\n",
    "- Specify a cell as markdown via toolbar, or using \"`esc, m`\" in the cell."
   ]
  },
  {
   "cell_type": "markdown",
   "metadata": {
    "slideshow": {
     "slide_type": "subslide"
    }
   },
   "source": [
    "## Code cells\n",
    "**Code cells** contains executable code:\n",
    "- Specify code cell using the toolbar, or hit `esc, y` in the cell, then enter edit.\n",
    "- Execute code: \"`shift + enter`\". Interpreter only knows executed cells!\n",
    "\n",
    "Keep cells simple, just a few lines of code!"
   ]
  },
  {
   "cell_type": "markdown",
   "metadata": {
    "slideshow": {
     "slide_type": "subslide"
    }
   },
   "source": [
    "Below an example of a code cell printing `hello, world.`  \n",
    "\n",
    "Notice that the output of the print statement appears in the same cell, but separate from the code block."
   ]
  },
  {
   "cell_type": "code",
   "execution_count": 1,
   "metadata": {
    "collapsed": false,
    "slideshow": {
     "slide_type": "fragment"
    }
   },
   "outputs": [
    {
     "name": "stdout",
     "output_type": "stream",
     "text": [
      "hello world\n"
     ]
    }
   ],
   "source": [
    "print 'hello world'"
   ]
  },
  {
   "cell_type": "markdown",
   "metadata": {
    "slideshow": {
     "slide_type": "subslide"
    }
   },
   "source": [
    "The notebook displays results without `print` but only for the last statement:"
   ]
  },
  {
   "cell_type": "code",
   "execution_count": 3,
   "metadata": {
    "collapsed": false,
    "slideshow": {
     "slide_type": "fragment"
    }
   },
   "outputs": [
    {
     "name": "stdout",
     "output_type": "stream",
     "text": [
      "6\n"
     ]
    },
    {
     "data": {
      "text/plain": [
       "4"
      ]
     },
     "execution_count": 3,
     "metadata": {},
     "output_type": "execute_result"
    }
   ],
   "source": [
    "print 2+4\n",
    "1+3"
   ]
  },
  {
   "cell_type": "markdown",
   "metadata": {
    "slideshow": {
     "slide_type": "slide"
    }
   },
   "source": [
    "## Built-in tools & 'magic' commands\n",
    "'Magics' are commands that control the behavior of IPython itself, plus a lot of system-type features. Magics are line-oriented (prefixed by '`%`'), or cell-oriented (prefixed by '`%%`'):"
   ]
  },
  {
   "cell_type": "code",
   "execution_count": 4,
   "metadata": {
    "collapsed": false,
    "slideshow": {
     "slide_type": "fragment"
    }
   },
   "outputs": [
    {
     "data": {
      "text/plain": [
       "Available line magics:\n",
       "%alias  %alias_magic  %autocall  %automagic  %autosave  %bookmark  %cat  %cd  %clear  %colors  %config  %connect_info  %cp  %debug  %dhist  %dirs  %doctest_mode  %ed  %edit  %env  %gui  %hist  %history  %install_default_config  %install_ext  %install_profiles  %killbgscripts  %ldir  %less  %lf  %lk  %ll  %load  %load_ext  %loadpy  %logoff  %logon  %logstart  %logstate  %logstop  %ls  %lsmagic  %lx  %macro  %magic  %man  %matplotlib  %mkdir  %more  %mv  %notebook  %page  %pastebin  %pdb  %pdef  %pdoc  %pfile  %pinfo  %pinfo2  %popd  %pprint  %precision  %profile  %prun  %psearch  %psource  %pushd  %pwd  %pycat  %pylab  %qtconsole  %quickref  %recall  %rehashx  %reload_ext  %rep  %rerun  %reset  %reset_selective  %rm  %rmdir  %run  %save  %sc  %set_env  %store  %sx  %system  %tb  %time  %timeit  %unalias  %unload_ext  %who  %who_ls  %whos  %xdel  %xmode\n",
       "\n",
       "Available cell magics:\n",
       "%%!  %%HTML  %%SVG  %%bash  %%capture  %%debug  %%file  %%html  %%javascript  %%latex  %%perl  %%prun  %%pypy  %%python  %%python2  %%python3  %%ruby  %%script  %%sh  %%svg  %%sx  %%system  %%time  %%timeit  %%writefile\n",
       "\n",
       "Automagic is ON, % prefix IS NOT needed for line magics."
      ]
     },
     "execution_count": 4,
     "metadata": {},
     "output_type": "execute_result"
    }
   ],
   "source": [
    "# checkout tab completion, then view %lsmagic\n",
    "%lsmagic"
   ]
  },
  {
   "cell_type": "code",
   "execution_count": 5,
   "metadata": {
    "collapsed": true,
    "slideshow": {
     "slide_type": "subslide"
    }
   },
   "outputs": [],
   "source": [
    "%magic"
   ]
  },
  {
   "cell_type": "markdown",
   "metadata": {
    "slideshow": {
     "slide_type": "subslide"
    }
   },
   "source": [
    "### Examples:"
   ]
  },
  {
   "cell_type": "code",
   "execution_count": 6,
   "metadata": {
    "collapsed": false,
    "slideshow": {
     "slide_type": "fragment"
    }
   },
   "outputs": [],
   "source": [
    "%matplotlib inline\n",
    "import pylab as plt\n",
    "plt.style.use('ggplot')\n",
    "import pandas as pd\n",
    "import numpy as np"
   ]
  },
  {
   "cell_type": "code",
   "execution_count": 8,
   "metadata": {
    "collapsed": false,
    "slideshow": {
     "slide_type": "fragment"
    }
   },
   "outputs": [],
   "source": [
    "# checkout help\n",
    "pd.DataFrame??"
   ]
  },
  {
   "cell_type": "code",
   "execution_count": 20,
   "metadata": {
    "collapsed": false
   },
   "outputs": [
    {
     "data": {
      "text/plain": [
       "<matplotlib.axes._subplots.AxesSubplot at 0x104aa5690>"
      ]
     },
     "execution_count": 20,
     "metadata": {},
     "output_type": "execute_result"
    },
    {
     "data": {
      "image/png": "[encoded data removed]",
      "text/plain": [
       "<matplotlib.figure.Figure at 0x104aa5ed0>"
      ]
     },
     "metadata": {},
     "output_type": "display_data"
    }
   ],
   "source": [
    "pd.Series(np.random.randint(-10,10, 100)).cumsum().plot();"
   ]
  },
  {
   "cell_type": "code",
   "execution_count": 12,
   "metadata": {
    "collapsed": false,
    "slideshow": {
     "slide_type": "subslide"
    }
   },
   "outputs": [
    {
     "data": {
      "text/plain": [
       "<matplotlib.axes._subplots.AxesSubplot at 0x104aca210>"
      ]
     },
     "execution_count": 12,
     "metadata": {},
     "output_type": "execute_result"
    },
    {
     "data": {
      "image/png": "[encoded data removed]",
      "text/plain": [
       "<matplotlib.figure.Figure at 0x104aca350>"
      ]
     },
     "metadata": {},
     "output_type": "display_data"
    }
   ],
   "source": [
    "pd.Series(np.random.randint(-10,10, 100)).cumsum().plot();"
   ]
  },
  {
   "cell_type": "markdown",
   "metadata": {
    "slideshow": {
     "slide_type": "slide"
    }
   },
   "source": [
    "### Use iPython as terminal"
   ]
  },
  {
   "cell_type": "code",
   "execution_count": 3,
   "metadata": {
    "ExecuteTime": {
     "end_time": "2016-07-04T09:56:45.925516",
     "start_time": "2016-07-04T09:56:45.808804"
    },
    "collapsed": false,
    "slideshow": {
     "slide_type": "slide"
    }
   },
   "outputs": [
    {
     "name": "stdout",
     "output_type": "stream",
     "text": [
      "/Users/Stefan/Dropbox (Personal)/General Assembly/DAT-NYC-38-Test/classes/lesson-03\r\n"
     ]
    }
   ],
   "source": [
    "# Run the pwd command:\n",
    "!pwd"
   ]
  },
  {
   "cell_type": "code",
   "execution_count": 5,
   "metadata": {
    "ExecuteTime": {
     "end_time": "2016-07-04T09:46:01.060039",
     "start_time": "2016-07-04T09:46:00.938518"
    },
    "collapsed": false,
    "slideshow": {
     "slide_type": "slide"
    }
   },
   "outputs": [
    {
     "name": "stdout",
     "output_type": "stream",
     "text": [
      "total 424\r\n",
      "drwxr-xr-x@ 12 Stefan  staff     408 Jul  4 15:35 \u001b[34mbackground\u001b[m\u001b[m\r\n",
      "drwxr-xr-x@  3 Stefan  staff     102 Jul  4 13:51 \u001b[34mimages\u001b[m\u001b[m\r\n",
      "-rw-r--r--@  1 Stefan  staff   30631 Jul  4 20:17 jupyter_notebook_intro.ipynb\r\n",
      "-rw-r--r--@  1 Stefan  staff  165780 Jul  4 20:07 numpy-and-pandas.ipynb\r\n",
      "-rw-r--r--@  1 Stefan  staff    5739 Jul  3 22:35 practical-pandas.ipynb\r\n",
      "-rw-r--r--@  1 Stefan  staff    2578 Jul  3 22:35 readme.md\r\n",
      "-rw-r--r--@  1 Stefan  staff    1323 Jul  4 20:11 set-config.ipynb\r\n"
     ]
    }
   ],
   "source": [
    "!ls -l"
   ]
  },
  {
   "cell_type": "markdown",
   "metadata": {
    "slideshow": {
     "slide_type": "slide"
    }
   },
   "source": [
    "## Further study:"
   ]
  },
  {
   "cell_type": "markdown",
   "metadata": {
    "slideshow": {
     "slide_type": "fragment"
    }
   },
   "source": [
    "- [jupyter notebook - getting started guide](https://jupyter-notebook-beginner-guide.readthedocs.io/en/latest/what_is_jupyter.html)\n",
    "- [jupyter intro video](https://www.youtube.com/watch?v=Rc4JQWowG5I)"
   ]
  },
  {
   "cell_type": "markdown",
   "metadata": {
    "slideshow": {
     "slide_type": "slide"
    }
   },
   "source": [
    "### Extras\n",
    "$\\LaTeX$ example:"
   ]
  },
  {
   "cell_type": "markdown",
   "metadata": {
    "slideshow": {
     "slide_type": "fragment"
    }
   },
   "source": [
    "$$c = \\sqrt{a^2 + b^2}$$"
   ]
  }
 ],
 "metadata": {
  "celltoolbar": "Slideshow",
  "kernelspec": {
   "display_name": "Python 2",
   "language": "python",
   "name": "python2"
  },
  "language_info": {
   "codemirror_mode": {
    "name": "ipython",
    "version": 2
   },
   "file_extension": ".py",
   "mimetype": "text/x-python",
   "name": "python",
   "nbconvert_exporter": "python",
   "pygments_lexer": "ipython2",
   "version": "2.7.11"
  },
  "widgets": {
   "state": {},
   "version": "1.1.2"
  }
 },
 "nbformat": 4,
 "nbformat_minor": 0
}
